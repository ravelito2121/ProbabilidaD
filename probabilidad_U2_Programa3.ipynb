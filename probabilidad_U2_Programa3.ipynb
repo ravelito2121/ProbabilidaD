{
  "nbformat": 4,
  "nbformat_minor": 0,
  "metadata": {
    "colab": {
      "provenance": []
    },
    "kernelspec": {
      "name": "python3",
      "display_name": "Python 3"
    },
    "language_info": {
      "name": "python"
    }
  },
  "cells": [
    {
      "cell_type": "code",
      "execution_count": 2,
      "metadata": {
        "id": "Qm4hsrMwyG7B"
      },
      "outputs": [],
      "source": [
        "import math as mt\n",
        "from itertools import permutations\n",
        "from itertools import product\n",
        "import numpy as np"
      ]
    },
    {
      "cell_type": "code",
      "source": [
        "a = 10 #asistentes disponibles\n",
        "q = 4 #numero de preguuntas\n",
        "num_permutations = mt.factorial(a)/ mt.factorial(a-q)\n",
        "print (\"Numero de formas para elegir los asistentes para evaluar\", num_permutations)"
      ],
      "metadata": {
        "colab": {
          "base_uri": "https://localhost:8080/"
        },
        "id": "dGU-Q-fXymbg",
        "outputId": "862ec7f1-0d95-4d3e-f561-673d195d4696"
      },
      "execution_count": 3,
      "outputs": [
        {
          "output_type": "stream",
          "name": "stdout",
          "text": [
            "El numero de formas en las que se puede los asistentes para evaluar 5040.0\n"
          ]
        }
      ]
    }
  ]
}