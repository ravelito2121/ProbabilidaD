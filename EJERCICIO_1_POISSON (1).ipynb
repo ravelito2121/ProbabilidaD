{
  "nbformat": 4,
  "nbformat_minor": 0,
  "metadata": {
    "colab": {
      "provenance": []
    },
    "kernelspec": {
      "name": "python3",
      "display_name": "Python 3"
    },
    "language_info": {
      "name": "python"
    }
  },
  "cells": [
    {
      "cell_type": "code",
      "execution_count": 8,
      "metadata": {
        "colab": {
          "base_uri": "https://localhost:8080/"
        },
        "id": "-laQ62LaaBlk",
        "outputId": "913376ea-6b91-4b97-e25c-b7a8f5ad6220"
      },
      "outputs": [
        {
          "output_type": "stream",
          "name": "stdout",
          "text": [
            "Probabilidad de que sean 2 ingresos:  0.08422433748856832\n",
            "probabilidad de que sean mas de 10 ingresos:  0.013695268598382881\n",
            "Es posible que san mayor que 10?,  No\n",
            "\n",
            "\n",
            "probabilidad de que no haya ningun motor defecutuoso:  0.3676954247709639\n",
            "probabilidad de que haya 3 motores defectuosos:  0.061282509389840666\n",
            "probabilidad de que haya 4 motores defectuosos:  0.015289955420838651\n"
          ]
        }
      ],
      "source": [
        "#PROBLEMA 1\n",
        "\n",
        "from scipy.stats import poisson\n",
        "from scipy.stats import binom\n",
        "\n",
        "#Aquí se usa la distribución de Poisson porque estamos contando\n",
        "#cuántas personas entran al hospital,\n",
        "#no la probabilidad de éxito o fracaso de un evento\n",
        "personas_ing=0\n",
        "media=5\n",
        "dos_ing=2\n",
        "mas_10_ing=10\n",
        "\n",
        "prob_2_ing=poisson.pmf(dos_ing, media)\n",
        "prob_10_ing=1-poisson.cdf(mas_10_ing, media)\n",
        "\n",
        "print(\"Probabilidad de que sean 2 ingresos: \", prob_2_ing)\n",
        "\n",
        "print(\"probabilidad de que sean mas de 10 ingresos: \", prob_10_ing)\n",
        "\n",
        "if(prob_10_ing>0.5):\n",
        "    mayor_10=\"Si\"\n",
        "else:\n",
        "    mayor_10=\"No\"\n",
        "print(\"Es posible que san mayor que 10?, \", mayor_10)\n",
        "\n",
        "\n",
        "#Calcular P(X>10) nos dirá si es probable que los ingresos superen los 10.\n",
        "#En una distribución de Poisson con media 5,\n",
        "#es poco probable que el número de eventos sea mucho mayor que la media,\n",
        "#porque esta distribución se concentra en torno a su media.\n",
        "print(\"\\n\")\n",
        "\n",
        "#PROBLEMA 2\n",
        "\n",
        "#En este segundo problema se emplea la distribución binomial porque\n",
        "#se está tratando de determinar la probabilidad de éxito o fracaso de un evento\n",
        "#en una serie de intentos específicos.\n",
        "no_satisface=0.001\n",
        "motores=1000\n",
        "probabilidad_0=0\n",
        "probabilidad_3=3\n",
        "probabilidad_4=4\n",
        "\n",
        "p1=binom.pmf(probabilidad_0, motores, no_satisface)\n",
        "p2=binom.pmf(probabilidad_3, motores, no_satisface)\n",
        "p3=binom.pmf(probabilidad_4, motores, no_satisface)\n",
        "\n",
        "print(\"probabilidad de que no haya ningun motor defecutuoso: \",p1)\n",
        "print(\"probabilidad de que haya 3 motores defectuosos: \",p2)\n",
        "print(\"probabilidad de que haya 4 motores defectuosos: \",p3)\n",
        "\n",
        "\n",
        "\n",
        "\n",
        "\n",
        "\n"
      ]
    }
  ]
}